{
 "cells": [
  {
   "cell_type": "code",
   "execution_count": null,
   "metadata": {},
   "outputs": [],
   "source": [
    "import pandas as pd\n",
    "# !pip install tweepy\n",
    "import tweepy\n",
    "import requests\n",
    "import json \n",
    "from tqdm import tqdm"
   ]
  },
  {
   "cell_type": "code",
   "execution_count": null,
   "metadata": {},
   "outputs": [],
   "source": [
    "import tweepy\n",
    "from tqdm import tqdm\n",
    "\n",
    "#Bearer Token\n",
    "bc = 'AAAAAAAAAAAAAAAAAAAAAISeXgEAAAAANwEgP0gtkLS%2Bjv9qCa3pIB3o1xs%3D98KYFXJI2DYHslg3StyrI2h9aB0w8PYq8iJyGS6Vdwsrhgkt7r'\n",
    "client = tweepy.Client(bearer_token=bc,wait_on_rate_limit=True)\n",
    "\n",
    "df = pd.DataFrame([],columns=['author_id','text','created_at','id_str','source','lang'])\n",
    "\n",
    "# col = ['author_id','context_annotations','conversation_id','created_at',\n",
    "#  'entities','geo','id','in_reply_to_user_id','lang','referenced_tweets','reply_settings','source','text']\n",
    "\n",
    "col = ['author_id','context_annotations','created_at','id','lang','referenced_tweets','source','text']\n",
    "\n",
    "# start time period of your choice\n",
    "start_time = '2020-03-01T00:00:00Z'\n",
    "\n",
    "# end time period of your choice\n",
    "# end_time = '2020-04-01T00:00:00Z'\n",
    "\n",
    "# query to search \n",
    "query = '\"Depression treatment\" OR \"Effective Depression treatment\"'\n",
    "\n",
    "# fetch tweet\n",
    "tweets = tweepy.Paginator(client.search_all_tweets, query=query,\n",
    "                              tweet_fields=col,start_time=start_time,\n",
    "                              max_results=100).flatten(limit=25000)\n",
    "\n",
    "\n",
    "for tweet in tqdm(tweets):\n",
    "    df.loc[len(df)] = [tweet.author_id,tweet.text,tweet.created_at,tweet.id,tweet.source,tweet.lang]"
   ]
  },
  {
   "cell_type": "code",
   "execution_count": null,
   "metadata": {},
   "outputs": [],
   "source": [
    "df.shape\n",
    "df.to_csv('tweet_25k.csv')"
   ]
  }
 ],
 "metadata": {
  "kernelspec": {
   "display_name": "Python 3.10.4 64-bit",
   "language": "python",
   "name": "python3"
  },
  "language_info": {
   "name": "python",
   "version": "3.10.4"
  },
  "orig_nbformat": 4,
  "vscode": {
   "interpreter": {
    "hash": "aee8b7b246df8f9039afb4144a1f6fd8d2ca17a180786b69acc140d282b71a49"
   }
  }
 },
 "nbformat": 4,
 "nbformat_minor": 2
}
