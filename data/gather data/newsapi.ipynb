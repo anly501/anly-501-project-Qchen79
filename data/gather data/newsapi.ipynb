{
 "cells": [
  {
   "cell_type": "code",
   "execution_count": 1,
   "metadata": {},
   "outputs": [],
   "source": [
    "import re\n",
    "import requests\n",
    "import pandas as pd\n",
    " "
   ]
  },
  {
   "cell_type": "code",
   "execution_count": 2,
   "metadata": {},
   "outputs": [
    {
     "name": "stdout",
     "output_type": "stream",
     "text": [
      "0\n",
      "1\n",
      "2\n",
      "3\n",
      "4\n"
     ]
    }
   ],
   "source": [
    "API_KEY = \"acba0121f727407cb465943669c381ad\"\n",
    "query = \"effective depression treatment\"\n",
    "\n",
    "\n",
    "for i in range(5):\n",
    "\n",
    "    print(i)\n",
    "    url = ('https://newsapi.org/v2/everything?'\n",
    "        f'q={query.replace(\" \", \"+\")}&'\n",
    "        'sortBy=publishedAt&'\n",
    "        f'apiKey={API_KEY}&'\n",
    "        f'page={i+1}')\n",
    "\n",
    "    res = requests.get(url)\n",
    "\n",
    "    if i == 0:\n",
    "        data = res.json()\n",
    "    else:\n",
    "        data[\"articles\"] += res.json()[\"articles\"]\n"
   ]
  },
  {
   "cell_type": "code",
   "execution_count": 3,
   "metadata": {},
   "outputs": [],
   "source": [
    "df = pd.DataFrame(data[\"articles\"])\n",
    "df.to_csv(\"data.csv\", index=False)"
   ]
  },
  {
   "cell_type": "code",
   "execution_count": null,
   "metadata": {},
   "outputs": [],
   "source": []
  }
 ],
 "metadata": {
  "kernelspec": {
   "display_name": "Python 3.10.4 ('ANLY501')",
   "language": "python",
   "name": "python3"
  },
  "language_info": {
   "codemirror_mode": {
    "name": "ipython",
    "version": 3
   },
   "file_extension": ".py",
   "mimetype": "text/x-python",
   "name": "python",
   "nbconvert_exporter": "python",
   "pygments_lexer": "ipython3",
   "version": "3.10.4"
  },
  "orig_nbformat": 4,
  "vscode": {
   "interpreter": {
    "hash": "5cb7026cc23148460e9216ada9f686682e2914f560e1147becf860982cc2fca9"
   }
  }
 },
 "nbformat": 4,
 "nbformat_minor": 2
}
